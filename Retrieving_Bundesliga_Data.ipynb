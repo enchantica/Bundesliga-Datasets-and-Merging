{
 "cells": [
  {
   "cell_type": "markdown",
   "metadata": {},
   "source": [
    "# Importing datasets from three different sources and merging them"
   ]
  },
  {
   "cell_type": "markdown",
   "metadata": {},
   "source": [
    "### One of my favorite things about Python is the ability to pull data from anywhere. Whether it be from the internet, a SQL database, a CSV file from your computer, or out of thin air, Python isn't fazed by anything."
   ]
  },
  {
   "cell_type": "markdown",
   "metadata": {},
   "source": [
    "### I can't count how many times I've used SQL at work only to be limited by data existing outside of the warehouse. Sure, I can pull in the data onto our sandbox (which has limited storage) on a weekly basis, because that's how often it refreshes, and of course with the permission of our warehouse team. However, this is not often the best or fastest solution."
   ]
  },
  {
   "cell_type": "markdown",
   "metadata": {},
   "source": [
    "### In this post I will show you three ways of pulling in data within the same program and then cleaning and merging said data. I will use Bundesliga data varying from average attendance, league standings, and match outcomes. I will add new columns and categorize some of the data just for illustration purposes."
   ]
  },
  {
   "cell_type": "markdown",
   "metadata": {},
   "source": [
    "### Before we get started, let's import the necessary packages (This is always step 1 in Python)\n"
   ]
  },
  {
   "cell_type": "code",
   "execution_count": 87,
   "metadata": {},
   "outputs": [],
   "source": [
    "import pandas as pd\n",
    "import warnings\n",
    "import wikipedia as wp\n",
    "import numpy as np\n",
    "import pymssql\n",
    "import matplotlib.pyplot as plt\n",
    "import sqlite3 # A number of folks have moved on to sqlalchemy as their preferred sql package, so be sure to look into that\n",
    "\n",
    "warnings.filterwarnings('ignore')"
   ]
  },
  {
   "cell_type": "markdown",
   "metadata": {},
   "source": [
    "\n",
    "## Part 1 - Import Data from CSV file"
   ]
  },
  {
   "cell_type": "markdown",
   "metadata": {},
   "source": [
    "### I use pandas to read the csv and assign it the variable name \"att\". I also change the data type for one of the colums to integer."
   ]
  },
  {
   "cell_type": "code",
   "execution_count": 70,
   "metadata": {},
   "outputs": [],
   "source": [
    "att = pd.read_csv(r'C:\\Users\\tsakota\\Documents\\Halfway\\Learn\\Python_Tibor\\buli1617attendance.csv', dtype={'Average': np.int32})"
   ]
  },
  {
   "cell_type": "code",
   "execution_count": 71,
   "metadata": {
    "scrolled": true
   },
   "outputs": [
    {
     "data": {
      "text/html": [
       "<div>\n",
       "<style scoped>\n",
       "    .dataframe tbody tr th:only-of-type {\n",
       "        vertical-align: middle;\n",
       "    }\n",
       "\n",
       "    .dataframe tbody tr th {\n",
       "        vertical-align: top;\n",
       "    }\n",
       "\n",
       "    .dataframe thead th {\n",
       "        text-align: right;\n",
       "    }\n",
       "</style>\n",
       "<table border=\"1\" class=\"dataframe\">\n",
       "  <thead>\n",
       "    <tr style=\"text-align: right;\">\n",
       "      <th></th>\n",
       "      <th>Stadium</th>\n",
       "      <th>Average</th>\n",
       "      <th>Unique_Team_ID</th>\n",
       "    </tr>\n",
       "  </thead>\n",
       "  <tbody>\n",
       "    <tr>\n",
       "      <th>0</th>\n",
       "      <td>Borussia Dortmund</td>\n",
       "      <td>79712</td>\n",
       "      <td>2</td>\n",
       "    </tr>\n",
       "    <tr>\n",
       "      <th>1</th>\n",
       "      <td>Bayern Munich</td>\n",
       "      <td>75000</td>\n",
       "      <td>1</td>\n",
       "    </tr>\n",
       "    <tr>\n",
       "      <th>2</th>\n",
       "      <td>Schalke 04</td>\n",
       "      <td>60762</td>\n",
       "      <td>5</td>\n",
       "    </tr>\n",
       "    <tr>\n",
       "      <th>3</th>\n",
       "      <td>Hamburger SV</td>\n",
       "      <td>52341</td>\n",
       "      <td>12</td>\n",
       "    </tr>\n",
       "    <tr>\n",
       "      <th>4</th>\n",
       "      <td>Borussia Mönchengladbach</td>\n",
       "      <td>51494</td>\n",
       "      <td>6</td>\n",
       "    </tr>\n",
       "  </tbody>\n",
       "</table>\n",
       "</div>"
      ],
      "text/plain": [
       "                    Stadium  Average  Unique_Team_ID\n",
       "0         Borussia Dortmund    79712               2\n",
       "1             Bayern Munich    75000               1\n",
       "2                Schalke 04    60762               5\n",
       "3              Hamburger SV    52341              12\n",
       "4  Borussia Mönchengladbach    51494               6"
      ]
     },
     "execution_count": 71,
     "metadata": {},
     "output_type": "execute_result"
    }
   ],
   "source": [
    "att.head()  # head allows us to see the top 5 rows. Great for exploration of data."
   ]
  },
  {
   "cell_type": "markdown",
   "metadata": {},
   "source": [
    "### We can see that Dortmund and Bayern have very high average attendance numbers. I'm curious to know what the average attendance for the entire league is"
   ]
  },
  {
   "cell_type": "code",
   "execution_count": 72,
   "metadata": {},
   "outputs": [],
   "source": [
    "avg_att_all = att['Average'].mean()\n",
    "avg_att = att['Average'][2:].mean()\n",
    "min_att = att['Average'].min()\n",
    "max_att = att['Average'].max()"
   ]
  },
  {
   "cell_type": "code",
   "execution_count": 73,
   "metadata": {},
   "outputs": [
    {
     "name": "stdout",
     "output_type": "stream",
     "text": [
      "Avarage Bundesliga attendance in 16/17: 41528 \n",
      "Average Bundesliga attendance in 16/17 - excluding Bayern & Dortmund: 37049 \n",
      "Minimum Bundesliga attendance in 16/17: 14601 \n",
      "Maximum Bundesliga attendance in 16/17: 79712 \n"
     ]
    }
   ],
   "source": [
    "print(\"Avarage Bundesliga attendance in 16/17: %.0f \" % avg_att_all)\n",
    "print(\"Average Bundesliga attendance in 16/17 - excluding Bayern & Dortmund: %.0f \" % avg_att)\n",
    "print(\"Minimum Bundesliga attendance in 16/17: %.0f \" % min_att)\n",
    "print(\"Maximum Bundesliga attendance in 16/17: %.0f \" % max_att)\n"
   ]
  },
  {
   "cell_type": "markdown",
   "metadata": {},
   "source": [
    "### Let's just keep playing with this dataset a little longer and see where it goes. I'm going to now break out the attendance numbers into three buckets, but I will exclude Bayern and Dortmund from the averages as they're outliers."
   ]
  },
  {
   "cell_type": "code",
   "execution_count": 40,
   "metadata": {},
   "outputs": [],
   "source": [
    "split = (max_att - min_att) / 3\n",
    "\n",
    "low = min_att + split\n",
    "high = max_att - split"
   ]
  },
  {
   "cell_type": "code",
   "execution_count": 88,
   "metadata": {
    "scrolled": true
   },
   "outputs": [],
   "source": [
    "att['Attendance_Bucket'] = 5\n",
    "att['Attendance_Bucket'][att['Average'] < low] = 3\n",
    "att['Attendance_Bucket'][(att['Average'] > low) & (att['Average'] < high )] = 2\n",
    "att['Attendance_Bucket'][att['Average'] > high] = 1"
   ]
  },
  {
   "cell_type": "markdown",
   "metadata": {},
   "source": [
    "### I've now split the teams into three attendance buckets. High (1), average (2), and low (3). These buckets are not the best representation of the attendance splits, but I want to show you how easy it is to modify datasets. Let's take a look at our head function again:"
   ]
  },
  {
   "cell_type": "code",
   "execution_count": 43,
   "metadata": {},
   "outputs": [
    {
     "data": {
      "text/html": [
       "<div>\n",
       "<style scoped>\n",
       "    .dataframe tbody tr th:only-of-type {\n",
       "        vertical-align: middle;\n",
       "    }\n",
       "\n",
       "    .dataframe tbody tr th {\n",
       "        vertical-align: top;\n",
       "    }\n",
       "\n",
       "    .dataframe thead th {\n",
       "        text-align: right;\n",
       "    }\n",
       "</style>\n",
       "<table border=\"1\" class=\"dataframe\">\n",
       "  <thead>\n",
       "    <tr style=\"text-align: right;\">\n",
       "      <th></th>\n",
       "      <th>Stadium</th>\n",
       "      <th>Average</th>\n",
       "      <th>Unique_Team_ID</th>\n",
       "      <th>Attendance_Bucket</th>\n",
       "    </tr>\n",
       "  </thead>\n",
       "  <tbody>\n",
       "    <tr>\n",
       "      <th>0</th>\n",
       "      <td>Borussia Dortmund</td>\n",
       "      <td>79712</td>\n",
       "      <td>2</td>\n",
       "      <td>1</td>\n",
       "    </tr>\n",
       "    <tr>\n",
       "      <th>1</th>\n",
       "      <td>Bayern Munich</td>\n",
       "      <td>75000</td>\n",
       "      <td>1</td>\n",
       "      <td>1</td>\n",
       "    </tr>\n",
       "    <tr>\n",
       "      <th>2</th>\n",
       "      <td>Schalke 04</td>\n",
       "      <td>60762</td>\n",
       "      <td>5</td>\n",
       "      <td>1</td>\n",
       "    </tr>\n",
       "    <tr>\n",
       "      <th>3</th>\n",
       "      <td>Hamburger SV</td>\n",
       "      <td>52341</td>\n",
       "      <td>12</td>\n",
       "      <td>2</td>\n",
       "    </tr>\n",
       "    <tr>\n",
       "      <th>4</th>\n",
       "      <td>Borussia Mönchengladbach</td>\n",
       "      <td>51494</td>\n",
       "      <td>6</td>\n",
       "      <td>2</td>\n",
       "    </tr>\n",
       "  </tbody>\n",
       "</table>\n",
       "</div>"
      ],
      "text/plain": [
       "                    Stadium  Average  Unique_Team_ID  Attendance_Bucket\n",
       "0         Borussia Dortmund    79712               2                  1\n",
       "1             Bayern Munich    75000               1                  1\n",
       "2                Schalke 04    60762               5                  1\n",
       "3              Hamburger SV    52341              12                  2\n",
       "4  Borussia Mönchengladbach    51494               6                  2"
      ]
     },
     "execution_count": 43,
     "metadata": {},
     "output_type": "execute_result"
    }
   ],
   "source": [
    "att.head()"
   ]
  },
  {
   "cell_type": "markdown",
   "metadata": {},
   "source": [
    "### Ignore the code below for now. I rename a couple columns in order to make merging easier later. "
   ]
  },
  {
   "cell_type": "code",
   "execution_count": 45,
   "metadata": {},
   "outputs": [],
   "source": [
    "att['Teamvte'] = att['Stadium']\n",
    "att['Home_Team_ID'] = att['Unique_Team_ID']"
   ]
  },
  {
   "cell_type": "markdown",
   "metadata": {},
   "source": [
    "### Ok, we did it! We imported a CSV dataset and modified its contents. This one is ready for merging/joining. Onto the next!"
   ]
  },
  {
   "cell_type": "markdown",
   "metadata": {},
   "source": [
    "## Part 2 - Import data from Wikipedia"
   ]
  },
  {
   "cell_type": "markdown",
   "metadata": {},
   "source": [
    "### Importing data rom wikipedia can be done through your typical API process, but this time i wanted to test the wikipedia package. This method of pulling data from the web is not the best representation of the most commonly used method, but there are many other blogs that illustrate the common method."
   ]
  },
  {
   "cell_type": "markdown",
   "metadata": {},
   "source": [
    "### Earlier we imported a package named wikipedia and we aliased it to \"wp\". The great thing about this package is that you can simply type in the title of the wikipedia page that you're intending to use. In our case, the title is \"2016-17 Bundesliga\". This page contains  a number of tables and in our case we're only interested in table 4, hence line two of the code containing the value \"[4]\".  On line three, we convert the table into a csv format. All this in three lines of code!"
   ]
  },
  {
   "cell_type": "code",
   "execution_count": 47,
   "metadata": {},
   "outputs": [],
   "source": [
    "html = wp.page(\"2016–17 Bundesliga\").html().encode(\"UTF-8\")\n",
    "df = pd.read_html(html)[4]   # the number at the end indicates what table to use\n",
    "df.to_csv('buli1617stand.csv',header=0,index=False)"
   ]
  },
  {
   "cell_type": "code",
   "execution_count": 54,
   "metadata": {},
   "outputs": [
    {
     "data": {
      "text/html": [
       "<div>\n",
       "<style scoped>\n",
       "    .dataframe tbody tr th:only-of-type {\n",
       "        vertical-align: middle;\n",
       "    }\n",
       "\n",
       "    .dataframe tbody tr th {\n",
       "        vertical-align: top;\n",
       "    }\n",
       "\n",
       "    .dataframe thead th {\n",
       "        text-align: right;\n",
       "    }\n",
       "</style>\n",
       "<table border=\"1\" class=\"dataframe\">\n",
       "  <thead>\n",
       "    <tr style=\"text-align: right;\">\n",
       "      <th></th>\n",
       "      <th>0</th>\n",
       "      <th>1</th>\n",
       "      <th>2</th>\n",
       "      <th>3</th>\n",
       "      <th>4</th>\n",
       "      <th>5</th>\n",
       "      <th>6</th>\n",
       "      <th>7</th>\n",
       "      <th>8</th>\n",
       "      <th>9</th>\n",
       "      <th>10</th>\n",
       "    </tr>\n",
       "  </thead>\n",
       "  <tbody>\n",
       "    <tr>\n",
       "      <th>0</th>\n",
       "      <td>Pos</td>\n",
       "      <td>Teamvte</td>\n",
       "      <td>Pld</td>\n",
       "      <td>W</td>\n",
       "      <td>D</td>\n",
       "      <td>L</td>\n",
       "      <td>GF</td>\n",
       "      <td>GA</td>\n",
       "      <td>GD</td>\n",
       "      <td>Pts</td>\n",
       "      <td>Qualification or relegation</td>\n",
       "    </tr>\n",
       "    <tr>\n",
       "      <th>1</th>\n",
       "      <td>1</td>\n",
       "      <td>Bayern Munich (C)</td>\n",
       "      <td>34</td>\n",
       "      <td>25</td>\n",
       "      <td>7</td>\n",
       "      <td>2</td>\n",
       "      <td>89</td>\n",
       "      <td>22</td>\n",
       "      <td>+67</td>\n",
       "      <td>82</td>\n",
       "      <td>Qualification to Champions League group stage</td>\n",
       "    </tr>\n",
       "    <tr>\n",
       "      <th>2</th>\n",
       "      <td>2</td>\n",
       "      <td>RB Leipzig</td>\n",
       "      <td>34</td>\n",
       "      <td>20</td>\n",
       "      <td>7</td>\n",
       "      <td>7</td>\n",
       "      <td>66</td>\n",
       "      <td>39</td>\n",
       "      <td>+27</td>\n",
       "      <td>67</td>\n",
       "      <td>NaN</td>\n",
       "    </tr>\n",
       "    <tr>\n",
       "      <th>3</th>\n",
       "      <td>3</td>\n",
       "      <td>Borussia Dortmund</td>\n",
       "      <td>34</td>\n",
       "      <td>18</td>\n",
       "      <td>10</td>\n",
       "      <td>6</td>\n",
       "      <td>72</td>\n",
       "      <td>40</td>\n",
       "      <td>+32</td>\n",
       "      <td>64</td>\n",
       "      <td>NaN</td>\n",
       "    </tr>\n",
       "    <tr>\n",
       "      <th>4</th>\n",
       "      <td>4</td>\n",
       "      <td>1899 Hoffenheim</td>\n",
       "      <td>34</td>\n",
       "      <td>16</td>\n",
       "      <td>14</td>\n",
       "      <td>4</td>\n",
       "      <td>64</td>\n",
       "      <td>37</td>\n",
       "      <td>+27</td>\n",
       "      <td>62</td>\n",
       "      <td>Qualification to Champions League play-off round</td>\n",
       "    </tr>\n",
       "    <tr>\n",
       "      <th>5</th>\n",
       "      <td>5</td>\n",
       "      <td>1. FC KÃ¶ln</td>\n",
       "      <td>34</td>\n",
       "      <td>12</td>\n",
       "      <td>13</td>\n",
       "      <td>9</td>\n",
       "      <td>51</td>\n",
       "      <td>42</td>\n",
       "      <td>+9</td>\n",
       "      <td>49</td>\n",
       "      <td>Qualification to Europa League group stage[a]</td>\n",
       "    </tr>\n",
       "  </tbody>\n",
       "</table>\n",
       "</div>"
      ],
      "text/plain": [
       "    0                  1    2   3   4  5   6   7    8    9   \\\n",
       "0  Pos            Teamvte  Pld   W   D  L  GF  GA   GD  Pts   \n",
       "1    1  Bayern Munich (C)   34  25   7  2  89  22  +67   82   \n",
       "2    2         RB Leipzig   34  20   7  7  66  39  +27   67   \n",
       "3    3  Borussia Dortmund   34  18  10  6  72  40  +32   64   \n",
       "4    4    1899 Hoffenheim   34  16  14  4  64  37  +27   62   \n",
       "5    5        1. FC KÃ¶ln   34  12  13  9  51  42   +9   49   \n",
       "\n",
       "                                                 10  \n",
       "0                       Qualification or relegation  \n",
       "1     Qualification to Champions League group stage  \n",
       "2                                               NaN  \n",
       "3                                               NaN  \n",
       "4  Qualification to Champions League play-off round  \n",
       "5     Qualification to Europa League group stage[a]  "
      ]
     },
     "execution_count": 54,
     "metadata": {},
     "output_type": "execute_result"
    }
   ],
   "source": [
    "df.head(6)"
   ]
  },
  {
   "cell_type": "markdown",
   "metadata": {},
   "source": [
    "#### Note - In step 1 we renamed one of our columns to \"Teamvte\". Our Wikipedia table above also has a column named \"Teamvte\". This will making merging easier later. I could have renamed both columns to something more logical, such as \"Team\", but I took the lazy approach instead."
   ]
  },
  {
   "cell_type": "markdown",
   "metadata": {},
   "source": [
    "### Next, I want to clean this table up. I don't really care about columns 2 - 9. In fact, why are our column names numbers? Things are going to have to change here."
   ]
  },
  {
   "cell_type": "markdown",
   "metadata": {},
   "source": [
    "### The code below drops all columns other than \"Pos\" and \"Teamvte\". It then removes our current column names (the numbers), and then assigned row 1 as the new column names. I then convert the \"Pos\" column into integers."
   ]
  },
  {
   "cell_type": "code",
   "execution_count": 58,
   "metadata": {},
   "outputs": [],
   "source": [
    "inter = df[[0,1]]\n",
    "inter.columns = inter.iloc[0]  # Assign row 1 as the column names\n",
    "inter = inter.iloc[1:]    # Remove duplicated column names\n",
    "inter['Pos'] = pd.to_numeric(inter['Pos'], errors='coerce')"
   ]
  },
  {
   "cell_type": "markdown",
   "metadata": {},
   "source": [
    "### I've noticed something troublesome already. Our Wikipedia dataset includes abbreviations at the end of team names that indicate whether the team was relegated (R) or whether the team won the league (C). Our attendance table and SQL database do not contains these abbreviations in their names. Also, the Wikipedia table can't seem to read German letters, so it replaces them with strange symbols, such as Ã¶ln.  Not sure whether we'll need to merge/join by team name later, but let's just address this now in case."
   ]
  },
  {
   "cell_type": "code",
   "execution_count": 89,
   "metadata": {},
   "outputs": [],
   "source": [
    "for i, row in inter['Teamvte'].iteritems():\n",
    "    if \"(\" in row:\n",
    "        team = row[:-4]\n",
    "        inter.set_value(i,'Teamvte',team)\n",
    "    elif \"gladbach\" in row:\n",
    "        team = \"Borussia Mönchengladbach\"\n",
    "        inter.set_value(i,'Teamvte',team)\n",
    "    elif \"ln\" in row:\n",
    "        team = \"1. FC Köln\"\n",
    "        inter.set_value(i,'Teamvte',team)\n",
    "    else:\n",
    "        row"
   ]
  },
  {
   "cell_type": "markdown",
   "metadata": {},
   "source": [
    "### I'm not sure whether a for loop was the best solution for our code above, but its one I'm most comfortable with. The loop iterates over each row in the \"Teamvte\" column and finds names that contain a parentheses. When it finds a team name that contains a parentheses, it removes the four last characters of the name. The loop also addresses the weird symbols in a static kind of way (Not the best solution)."
   ]
  },
  {
   "cell_type": "markdown",
   "metadata": {},
   "source": [
    "### Now just for kicks, let's separate out the teams by different performance buckets. Good (1), average (2), and bad(3)."
   ]
  },
  {
   "cell_type": "code",
   "execution_count": 84,
   "metadata": {},
   "outputs": [],
   "source": [
    "inter['Perform_Bucket'] = 5\n",
    "inter['Perform_Bucket'][inter['Pos'] < 7] = 1\n",
    "inter['Perform_Bucket'][(inter['Pos'] > 6) & (inter['Pos'] < 13)] = 2\n",
    "inter['Perform_Bucket'][inter['Pos'] > 12] = 3    "
   ]
  },
  {
   "cell_type": "markdown",
   "metadata": {},
   "source": [
    "### Let's take a look at our cleaned up dataset. Notice that Bayern Munich and 1. FC Köln look just the way we want them to?"
   ]
  },
  {
   "cell_type": "code",
   "execution_count": 63,
   "metadata": {},
   "outputs": [
    {
     "data": {
      "text/html": [
       "<div>\n",
       "<style scoped>\n",
       "    .dataframe tbody tr th:only-of-type {\n",
       "        vertical-align: middle;\n",
       "    }\n",
       "\n",
       "    .dataframe tbody tr th {\n",
       "        vertical-align: top;\n",
       "    }\n",
       "\n",
       "    .dataframe thead th {\n",
       "        text-align: right;\n",
       "    }\n",
       "</style>\n",
       "<table border=\"1\" class=\"dataframe\">\n",
       "  <thead>\n",
       "    <tr style=\"text-align: right;\">\n",
       "      <th></th>\n",
       "      <th>Pos</th>\n",
       "      <th>Teamvte</th>\n",
       "      <th>Perform_Bucket</th>\n",
       "    </tr>\n",
       "  </thead>\n",
       "  <tbody>\n",
       "    <tr>\n",
       "      <th>1</th>\n",
       "      <td>1</td>\n",
       "      <td>Bayern Munich</td>\n",
       "      <td>1</td>\n",
       "    </tr>\n",
       "    <tr>\n",
       "      <th>2</th>\n",
       "      <td>2</td>\n",
       "      <td>RB Leipzig</td>\n",
       "      <td>1</td>\n",
       "    </tr>\n",
       "    <tr>\n",
       "      <th>3</th>\n",
       "      <td>3</td>\n",
       "      <td>Borussia Dortmund</td>\n",
       "      <td>1</td>\n",
       "    </tr>\n",
       "    <tr>\n",
       "      <th>4</th>\n",
       "      <td>4</td>\n",
       "      <td>1899 Hoffenheim</td>\n",
       "      <td>1</td>\n",
       "    </tr>\n",
       "    <tr>\n",
       "      <th>5</th>\n",
       "      <td>5</td>\n",
       "      <td>1. FC Köln</td>\n",
       "      <td>1</td>\n",
       "    </tr>\n",
       "    <tr>\n",
       "      <th>6</th>\n",
       "      <td>6</td>\n",
       "      <td>Hertha BSC</td>\n",
       "      <td>1</td>\n",
       "    </tr>\n",
       "    <tr>\n",
       "      <th>7</th>\n",
       "      <td>7</td>\n",
       "      <td>SC Freiburg</td>\n",
       "      <td>2</td>\n",
       "    </tr>\n",
       "    <tr>\n",
       "      <th>8</th>\n",
       "      <td>8</td>\n",
       "      <td>Werder Bremen</td>\n",
       "      <td>2</td>\n",
       "    </tr>\n",
       "  </tbody>\n",
       "</table>\n",
       "</div>"
      ],
      "text/plain": [
       "0  Pos            Teamvte  Perform_Bucket\n",
       "1    1      Bayern Munich               1\n",
       "2    2         RB Leipzig               1\n",
       "3    3  Borussia Dortmund               1\n",
       "4    4    1899 Hoffenheim               1\n",
       "5    5         1. FC Köln               1\n",
       "6    6         Hertha BSC               1\n",
       "7    7        SC Freiburg               2\n",
       "8    8      Werder Bremen               2"
      ]
     },
     "execution_count": 63,
     "metadata": {},
     "output_type": "execute_result"
    }
   ],
   "source": [
    "inter.head(8)"
   ]
  },
  {
   "cell_type": "markdown",
   "metadata": {},
   "source": [
    "### Before we get to part 3, let's merge our first two parts together and only keep columns that we need going forward. Python makes this process EASY."
   ]
  },
  {
   "cell_type": "code",
   "execution_count": 64,
   "metadata": {},
   "outputs": [],
   "source": [
    "buli = pd.merge(att, inter, how='left', on='Teamvte')\n",
    "\n",
    "buli = buli[['Unique_Team_ID', 'Home_Team_ID', 'Teamvte','Attendance_Bucket','Perform_Bucket']]"
   ]
  },
  {
   "cell_type": "markdown",
   "metadata": {},
   "source": [
    "### Ok, let's look at our final merged dataset:"
   ]
  },
  {
   "cell_type": "code",
   "execution_count": 65,
   "metadata": {},
   "outputs": [
    {
     "data": {
      "text/html": [
       "<div>\n",
       "<style scoped>\n",
       "    .dataframe tbody tr th:only-of-type {\n",
       "        vertical-align: middle;\n",
       "    }\n",
       "\n",
       "    .dataframe tbody tr th {\n",
       "        vertical-align: top;\n",
       "    }\n",
       "\n",
       "    .dataframe thead th {\n",
       "        text-align: right;\n",
       "    }\n",
       "</style>\n",
       "<table border=\"1\" class=\"dataframe\">\n",
       "  <thead>\n",
       "    <tr style=\"text-align: right;\">\n",
       "      <th></th>\n",
       "      <th>Unique_Team_ID</th>\n",
       "      <th>Home_Team_ID</th>\n",
       "      <th>Teamvte</th>\n",
       "      <th>Attendance_Bucket</th>\n",
       "      <th>Perform_Bucket</th>\n",
       "    </tr>\n",
       "  </thead>\n",
       "  <tbody>\n",
       "    <tr>\n",
       "      <th>0</th>\n",
       "      <td>2</td>\n",
       "      <td>2</td>\n",
       "      <td>Borussia Dortmund</td>\n",
       "      <td>1</td>\n",
       "      <td>1</td>\n",
       "    </tr>\n",
       "    <tr>\n",
       "      <th>1</th>\n",
       "      <td>1</td>\n",
       "      <td>1</td>\n",
       "      <td>Bayern Munich</td>\n",
       "      <td>1</td>\n",
       "      <td>1</td>\n",
       "    </tr>\n",
       "    <tr>\n",
       "      <th>2</th>\n",
       "      <td>5</td>\n",
       "      <td>5</td>\n",
       "      <td>Schalke 04</td>\n",
       "      <td>1</td>\n",
       "      <td>2</td>\n",
       "    </tr>\n",
       "    <tr>\n",
       "      <th>3</th>\n",
       "      <td>12</td>\n",
       "      <td>12</td>\n",
       "      <td>Hamburger SV</td>\n",
       "      <td>2</td>\n",
       "      <td>3</td>\n",
       "    </tr>\n",
       "    <tr>\n",
       "      <th>4</th>\n",
       "      <td>6</td>\n",
       "      <td>6</td>\n",
       "      <td>Borussia Mönchengladbach</td>\n",
       "      <td>2</td>\n",
       "      <td>2</td>\n",
       "    </tr>\n",
       "  </tbody>\n",
       "</table>\n",
       "</div>"
      ],
      "text/plain": [
       "   Unique_Team_ID  Home_Team_ID                   Teamvte  Attendance_Bucket  \\\n",
       "0               2             2         Borussia Dortmund                  1   \n",
       "1               1             1             Bayern Munich                  1   \n",
       "2               5             5                Schalke 04                  1   \n",
       "3              12            12              Hamburger SV                  2   \n",
       "4               6             6  Borussia Mönchengladbach                  2   \n",
       "\n",
       "   Perform_Bucket  \n",
       "0               1  \n",
       "1               1  \n",
       "2               2  \n",
       "3               3  \n",
       "4               2  "
      ]
     },
     "execution_count": 65,
     "metadata": {},
     "output_type": "execute_result"
    }
   ],
   "source": [
    "buli.head()"
   ]
  },
  {
   "cell_type": "markdown",
   "metadata": {},
   "source": [
    "## Part 3 - Import Data from a SQL Database"
   ]
  },
  {
   "cell_type": "markdown",
   "metadata": {},
   "source": [
    "### If you're working with data in a professional setting, you'll need to know SQL more times than not. I will now query data from SQLite within our Python program. You may recall that we imported the sqlite3 and pymssql packages at the start of our program. Both are important in order to query from a SQLite database.\n"
   ]
  },
  {
   "cell_type": "markdown",
   "metadata": {},
   "source": [
    "#### Note - SQLAlchemy is a popular new package that I recommend everyone learns if they will be using a lot of SQL in their Python code."
   ]
  },
  {
   "cell_type": "markdown",
   "metadata": {},
   "source": [
    "### First item on the agenda with SQLite is loading in our database. In this part, we are loading in data that contains all matches played in the top European divisions from the early 2000's to 2017. Our \"conn\" variable pulls ins the database into Python and the \"c\" variable allows us to write actual SQL code."
   ]
  },
  {
   "cell_type": "code",
   "execution_count": 66,
   "metadata": {},
   "outputs": [],
   "source": [
    "db = r'C:\\Users\\tsakota\\Documents\\Halfway\\Learn\\Python_Tibor\\datasets\\soccer.sqlite'\n",
    "\n",
    "conn = sqlite3.connect(db)\n",
    "c = conn.cursor()"
   ]
  },
  {
   "cell_type": "markdown",
   "metadata": {},
   "source": [
    "### In our query below, we will isolate all matches to only include Bundesliga matches in 2016/17. I will also add column GD (goal difference) to show who the winner of the game was by goal different. A negative GD indicates that the AwayTeam lost, a positive GD indicates that the AwayTeam won, and 0 indicates a tie."
   ]
  },
  {
   "cell_type": "code",
   "execution_count": 67,
   "metadata": {},
   "outputs": [],
   "source": [
    "matches = pd.read_sql('''SELECT ut.Unique_Team_ID AS Unique_Team_ID\n",
    ", ht.Unique_Team_ID AS Home_Team_ID_y\n",
    ", fl.AwayTeam AS AwayTeam\n",
    ", fl.FTHG\n",
    ", fl.FTAG\n",
    ", (fl.FTAG - fl.FTHG) AS GD\n",
    "FROM Flatview fl\n",
    "\t\n",
    "\tJOIN Unique_Teams ut\n",
    "\tON fl.AwayTeam = ut.TeamName\n",
    "\t\n",
    "\tJOIN Unique_Teams ht\n",
    "\tON fl.HomeTeam = ht.TeamName\n",
    " \n",
    "WHERE Season = 2016\n",
    "\tAND Div = 'D1'\n",
    "\tAND ut.Unique_Team_ID BETWEEN 1 AND 20''', conn, columns = ['Unique_Team_ID','Home_Team_ID','AwayTeam','FTHG','FTAG','GD'])"
   ]
  },
  {
   "cell_type": "code",
   "execution_count": 68,
   "metadata": {},
   "outputs": [
    {
     "data": {
      "text/html": [
       "<div>\n",
       "<style scoped>\n",
       "    .dataframe tbody tr th:only-of-type {\n",
       "        vertical-align: middle;\n",
       "    }\n",
       "\n",
       "    .dataframe tbody tr th {\n",
       "        vertical-align: top;\n",
       "    }\n",
       "\n",
       "    .dataframe thead th {\n",
       "        text-align: right;\n",
       "    }\n",
       "</style>\n",
       "<table border=\"1\" class=\"dataframe\">\n",
       "  <thead>\n",
       "    <tr style=\"text-align: right;\">\n",
       "      <th></th>\n",
       "      <th>Unique_Team_ID</th>\n",
       "      <th>Home_Team_ID_y</th>\n",
       "      <th>AwayTeam</th>\n",
       "      <th>fl.FTHG</th>\n",
       "      <th>fl.FTAG</th>\n",
       "      <th>GD</th>\n",
       "    </tr>\n",
       "  </thead>\n",
       "  <tbody>\n",
       "    <tr>\n",
       "      <th>0</th>\n",
       "      <td>1</td>\n",
       "      <td>5</td>\n",
       "      <td>Bayern Munich</td>\n",
       "      <td>0</td>\n",
       "      <td>2</td>\n",
       "      <td>2</td>\n",
       "    </tr>\n",
       "    <tr>\n",
       "      <th>1</th>\n",
       "      <td>1</td>\n",
       "      <td>12</td>\n",
       "      <td>Bayern Munich</td>\n",
       "      <td>0</td>\n",
       "      <td>1</td>\n",
       "      <td>1</td>\n",
       "    </tr>\n",
       "    <tr>\n",
       "      <th>2</th>\n",
       "      <td>1</td>\n",
       "      <td>14</td>\n",
       "      <td>Bayern Munich</td>\n",
       "      <td>2</td>\n",
       "      <td>2</td>\n",
       "      <td>0</td>\n",
       "    </tr>\n",
       "    <tr>\n",
       "      <th>3</th>\n",
       "      <td>1</td>\n",
       "      <td>15</td>\n",
       "      <td>Bayern Munich</td>\n",
       "      <td>1</td>\n",
       "      <td>3</td>\n",
       "      <td>2</td>\n",
       "    </tr>\n",
       "    <tr>\n",
       "      <th>4</th>\n",
       "      <td>1</td>\n",
       "      <td>2</td>\n",
       "      <td>Bayern Munich</td>\n",
       "      <td>1</td>\n",
       "      <td>0</td>\n",
       "      <td>-1</td>\n",
       "    </tr>\n",
       "  </tbody>\n",
       "</table>\n",
       "</div>"
      ],
      "text/plain": [
       "   Unique_Team_ID  Home_Team_ID_y       AwayTeam  fl.FTHG  fl.FTAG  GD\n",
       "0               1               5  Bayern Munich        0        2   2\n",
       "1               1              12  Bayern Munich        0        1   1\n",
       "2               1              14  Bayern Munich        2        2   0\n",
       "3               1              15  Bayern Munich        1        3   2\n",
       "4               1               2  Bayern Munich        1        0  -1"
      ]
     },
     "execution_count": 68,
     "metadata": {},
     "output_type": "execute_result"
    }
   ],
   "source": [
    "matches.head()"
   ]
  },
  {
   "cell_type": "markdown",
   "metadata": {},
   "source": [
    "### Now you've seen how to pull three different datasets from three different sources. If that was all you're interested in, you can stop here. I will continue merging and toying with this data in the next part."
   ]
  },
  {
   "cell_type": "markdown",
   "metadata": {},
   "source": [
    "## Part 4 - Merging the Datasets"
   ]
  },
  {
   "cell_type": "markdown",
   "metadata": {},
   "source": [
    "### I will now merge, clean, merge again, and clean again in one fell swoop."
   ]
  },
  {
   "cell_type": "code",
   "execution_count": 78,
   "metadata": {},
   "outputs": [],
   "source": [
    "# Merge/Join \n",
    "df_all = pd.merge(buli, matches, how='inner', on='Unique_Team_ID') \n",
    "\n",
    "# Keep only these columns in final dataset\n",
    "df_all = df_all[['Unique_Team_ID','Home_Team_ID_y','AwayTeam','GD',\n",
    "                 'Attendance_Bucket','Perform_Bucket']] \n",
    "\n",
    "# Rename column Home_Team_ID_y to Home_Team_ID for easier merge. Then drop the old column name\n",
    "df_all['Home_Team_ID'] = df_all['Home_Team_ID_y']\n",
    "df_all['Away_Team_ID'] = df_all['Unique_Team_ID']\n",
    "df_all = df_all[['Away_Team_ID','Home_Team_ID','AwayTeam','GD','Attendance_Bucket','Perform_Bucket']]\n",
    "\n",
    "# Merge/Join again to buli table in order to bring in home team attendance bucket and performance bucket\n",
    "all = pd.merge(df_all, buli, how='inner', on='Home_Team_ID')\n",
    "\n",
    "# Rename columns for easier reading for the data\n",
    "all['Away_Attend_Bucket'] = all['Attendance_Bucket_x']\n",
    "all['Home_Attend_Bucket'] = all['Attendance_Bucket_y']\n",
    "all['Away_Perform_Bucket'] = all['Perform_Bucket_x']\n",
    "all['Home_Perform_Bucket'] = all['Perform_Bucket_y']\n",
    "all = all[['Away_Team_ID','Home_Team_ID','AwayTeam','GD','Away_Attend_Bucket','Away_Perform_Bucket',\n",
    "           'Home_Attend_Bucket','Home_Perform_Bucket']]\n",
    "\n",
    "# Sort dataset by Away_Team_ID\n",
    "all.sort_values(by=['Away_Team_ID'], inplace=True)"
   ]
  },
  {
   "cell_type": "code",
   "execution_count": 79,
   "metadata": {},
   "outputs": [
    {
     "data": {
      "text/html": [
       "<div>\n",
       "<style scoped>\n",
       "    .dataframe tbody tr th:only-of-type {\n",
       "        vertical-align: middle;\n",
       "    }\n",
       "\n",
       "    .dataframe tbody tr th {\n",
       "        vertical-align: top;\n",
       "    }\n",
       "\n",
       "    .dataframe thead th {\n",
       "        text-align: right;\n",
       "    }\n",
       "</style>\n",
       "<table border=\"1\" class=\"dataframe\">\n",
       "  <thead>\n",
       "    <tr style=\"text-align: right;\">\n",
       "      <th></th>\n",
       "      <th>Away_Team_ID</th>\n",
       "      <th>Home_Team_ID</th>\n",
       "      <th>AwayTeam</th>\n",
       "      <th>GD</th>\n",
       "      <th>Away_Attend_Bucket</th>\n",
       "      <th>Away_Perform_Bucket</th>\n",
       "      <th>Home_Attend_Bucket</th>\n",
       "      <th>Home_Perform_Bucket</th>\n",
       "    </tr>\n",
       "  </thead>\n",
       "  <tbody>\n",
       "    <tr>\n",
       "      <th>137</th>\n",
       "      <td>1</td>\n",
       "      <td>13</td>\n",
       "      <td>Bayern Munich</td>\n",
       "      <td>1</td>\n",
       "      <td>1</td>\n",
       "      <td>1</td>\n",
       "      <td>2</td>\n",
       "      <td>2</td>\n",
       "    </tr>\n",
       "    <tr>\n",
       "      <th>18</th>\n",
       "      <td>1</td>\n",
       "      <td>7</td>\n",
       "      <td>Bayern Munich</td>\n",
       "      <td>6</td>\n",
       "      <td>1</td>\n",
       "      <td>1</td>\n",
       "      <td>3</td>\n",
       "      <td>3</td>\n",
       "    </tr>\n",
       "    <tr>\n",
       "      <th>289</th>\n",
       "      <td>1</td>\n",
       "      <td>2</td>\n",
       "      <td>Bayern Munich</td>\n",
       "      <td>-1</td>\n",
       "      <td>1</td>\n",
       "      <td>1</td>\n",
       "      <td>1</td>\n",
       "      <td>1</td>\n",
       "    </tr>\n",
       "    <tr>\n",
       "      <th>273</th>\n",
       "      <td>1</td>\n",
       "      <td>15</td>\n",
       "      <td>Bayern Munich</td>\n",
       "      <td>2</td>\n",
       "      <td>1</td>\n",
       "      <td>1</td>\n",
       "      <td>3</td>\n",
       "      <td>3</td>\n",
       "    </tr>\n",
       "    <tr>\n",
       "      <th>35</th>\n",
       "      <td>1</td>\n",
       "      <td>3</td>\n",
       "      <td>Bayern Munich</td>\n",
       "      <td>0</td>\n",
       "      <td>1</td>\n",
       "      <td>1</td>\n",
       "      <td>3</td>\n",
       "      <td>2</td>\n",
       "    </tr>\n",
       "    <tr>\n",
       "      <th>154</th>\n",
       "      <td>1</td>\n",
       "      <td>11</td>\n",
       "      <td>Bayern Munich</td>\n",
       "      <td>2</td>\n",
       "      <td>1</td>\n",
       "      <td>1</td>\n",
       "      <td>3</td>\n",
       "      <td>3</td>\n",
       "    </tr>\n",
       "    <tr>\n",
       "      <th>86</th>\n",
       "      <td>1</td>\n",
       "      <td>14</td>\n",
       "      <td>Bayern Munich</td>\n",
       "      <td>0</td>\n",
       "      <td>1</td>\n",
       "      <td>1</td>\n",
       "      <td>2</td>\n",
       "      <td>2</td>\n",
       "    </tr>\n",
       "    <tr>\n",
       "      <th>171</th>\n",
       "      <td>1</td>\n",
       "      <td>20</td>\n",
       "      <td>Bayern Munich</td>\n",
       "      <td>1</td>\n",
       "      <td>1</td>\n",
       "      <td>1</td>\n",
       "      <td>3</td>\n",
       "      <td>3</td>\n",
       "    </tr>\n",
       "    <tr>\n",
       "      <th>120</th>\n",
       "      <td>1</td>\n",
       "      <td>9</td>\n",
       "      <td>Bayern Munich</td>\n",
       "      <td>-1</td>\n",
       "      <td>1</td>\n",
       "      <td>1</td>\n",
       "      <td>3</td>\n",
       "      <td>1</td>\n",
       "    </tr>\n",
       "    <tr>\n",
       "      <th>103</th>\n",
       "      <td>1</td>\n",
       "      <td>8</td>\n",
       "      <td>Bayern Munich</td>\n",
       "      <td>3</td>\n",
       "      <td>1</td>\n",
       "      <td>1</td>\n",
       "      <td>2</td>\n",
       "      <td>1</td>\n",
       "    </tr>\n",
       "  </tbody>\n",
       "</table>\n",
       "</div>"
      ],
      "text/plain": [
       "     Away_Team_ID  Home_Team_ID       AwayTeam  GD  Away_Attend_Bucket  \\\n",
       "137             1            13  Bayern Munich   1                   1   \n",
       "18              1             7  Bayern Munich   6                   1   \n",
       "289             1             2  Bayern Munich  -1                   1   \n",
       "273             1            15  Bayern Munich   2                   1   \n",
       "35              1             3  Bayern Munich   0                   1   \n",
       "154             1            11  Bayern Munich   2                   1   \n",
       "86              1            14  Bayern Munich   0                   1   \n",
       "171             1            20  Bayern Munich   1                   1   \n",
       "120             1             9  Bayern Munich  -1                   1   \n",
       "103             1             8  Bayern Munich   3                   1   \n",
       "\n",
       "     Away_Perform_Bucket  Home_Attend_Bucket  Home_Perform_Bucket  \n",
       "137                    1                   2                    2  \n",
       "18                     1                   3                    3  \n",
       "289                    1                   1                    1  \n",
       "273                    1                   3                    3  \n",
       "35                     1                   3                    2  \n",
       "154                    1                   3                    3  \n",
       "86                     1                   2                    2  \n",
       "171                    1                   3                    3  \n",
       "120                    1                   3                    1  \n",
       "103                    1                   2                    1  "
      ]
     },
     "execution_count": 79,
     "metadata": {},
     "output_type": "execute_result"
    }
   ],
   "source": [
    "all.head(10)"
   ]
  },
  {
   "cell_type": "markdown",
   "metadata": {},
   "source": [
    "### The final product is a merged table that pulled data from our previous three tables. "
   ]
  },
  {
   "cell_type": "markdown",
   "metadata": {},
   "source": [
    "### Just from looking at our top 10 rows of the dataset, we can now see that Bayern Munich has fared quite well against teams with low attendance and poor overall performance (this second part is obvious). Their two losses have come at the hands of two high performing teams."
   ]
  },
  {
   "cell_type": "markdown",
   "metadata": {},
   "source": [
    "### Let's do one last thing. Just out of curiosity, I'd like to see what the correlation is between GD (Goal Difference), attendance, and performance."
   ]
  },
  {
   "cell_type": "code",
   "execution_count": 80,
   "metadata": {},
   "outputs": [
    {
     "name": "stdout",
     "output_type": "stream",
     "text": [
      "                           GD  Home_Attend_Bucket  Away_Perform_Bucket  \\\n",
      "GD                   1.000000            0.322212            -0.264402   \n",
      "Home_Attend_Bucket   0.322212            1.000000            -0.032864   \n",
      "Away_Perform_Bucket -0.264402           -0.032864             1.000000   \n",
      "Home_Perform_Bucket  0.357593            0.558694            -0.058824   \n",
      "\n",
      "                     Home_Perform_Bucket  \n",
      "GD                              0.357593  \n",
      "Home_Attend_Bucket              0.558694  \n",
      "Away_Perform_Bucket            -0.058824  \n",
      "Home_Perform_Bucket             1.000000  \n"
     ]
    }
   ],
   "source": [
    "corr = all[['GD','Home_Attend_Bucket','Away_Perform_Bucket','Home_Perform_Bucket']].corr()\n",
    "print(corr)"
   ]
  },
  {
   "cell_type": "markdown",
   "metadata": {},
   "source": [
    "### Unsurprisingly, GD and Home_Perform_Bucket have pretty good correlation. The better your GD is, the likelier you are to perform well by the end of the season. Home team attendance and home team performance buckets correlate even better. The higher a home teams attendance, the better they perform. This intuitavely makes sense since you have more of your own supporters pushing you to win; however, there are many factors that are at play here. A higher attendance also typically means the team has a larger stadium, likely because they have more money; money which allows them to also buy better players, a key ingredient to winning. This is a perfect example of correlation does not equal causation."
   ]
  },
  {
   "cell_type": "markdown",
   "metadata": {},
   "source": [
    "### And because we all knows blog posts must include at least one visualiaztion:"
   ]
  },
  {
   "cell_type": "code",
   "execution_count": 83,
   "metadata": {},
   "outputs": [
    {
     "data": {
      "image/png": "[encoded data removed]",
      "text/plain": [
       "<matplotlib.figure.Figure at 0x1908fb9ff60>"
      ]
     },
     "metadata": {},
     "output_type": "display_data"
    }
   ],
   "source": [
    "all_gd = all[['AwayTeam','GD']].groupby('AwayTeam', axis=0).sum()\n",
    "#all_gd.sort_values(by=['AwayTeam'], inplace=True)\n",
    "\n",
    "all_gd_1 = all[['AwayTeam','Away_Perform_Bucket']].groupby('AwayTeam', axis=0).mean()\n",
    "\n",
    "plt.ylabel('Performance Bucket')\n",
    "plt.xlabel('Goal Difference')\n",
    "plt.title('2016/17 Away Game Performance')\n",
    "\n",
    "plt.scatter(all_gd['GD'], all_gd_1['Away_Perform_Bucket'])\n",
    "plt.show()"
   ]
  },
  {
   "cell_type": "markdown",
   "metadata": {},
   "source": [
    "### As suspected, bad teams were scored on quite a lot in away games. Average teams had a net negative goal difference in away games as well. This is no surprise since everyone knows away games are brutal. The interesting piece to me is that there were a couple of good performing teams who fared worse in away games than average teams. In fact, one of the good teams (Borussia Monchengladbach) performed worse in away games than most average teams and even a couple of bad teams. They must have won a lot of home games!"
   ]
  }
 ],
 "metadata": {
  "kernelspec": {
   "display_name": "Python 3",
   "language": "python",
   "name": "python3"
  },
  "language_info": {
   "codemirror_mode": {
    "name": "ipython",
    "version": 3
   },
   "file_extension": ".py",
   "mimetype": "text/x-python",
   "name": "python",
   "nbconvert_exporter": "python",
   "pygments_lexer": "ipython3",
   "version": "3.5.4"
  }
 },
 "nbformat": 4,
 "nbformat_minor": 2
}
